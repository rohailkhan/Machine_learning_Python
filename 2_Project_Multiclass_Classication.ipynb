{
  "nbformat": 4,
  "nbformat_minor": 0,
  "metadata": {
    "colab": {
      "name": "2-Project: Multiclass Classi\fcation",
      "provenance": [],
      "authorship_tag": "ABX9TyMcHG59/F4WiwviB5U4eAZV",
      "include_colab_link": true
    },
    "kernelspec": {
      "name": "python3",
      "display_name": "Python 3"
    },
    "language_info": {
      "name": "python"
    }
  },
  "cells": [
    {
      "cell_type": "markdown",
      "metadata": {
        "id": "view-in-github",
        "colab_type": "text"
      },
      "source": [
        "<a href=\"https://colab.research.google.com/github/rohailkhan/Data-Science-python/blob/master/2_Project_Multiclass_Classi%0Ccation.ipynb\" target=\"_parent\"><img src=\"https://colab.research.google.com/assets/colab-badge.svg\" alt=\"Open In Colab\"/></a>"
      ]
    },
    {
      "cell_type": "code",
      "metadata": {
        "id": "defWyXsj0Oov"
      },
      "source": [
        "# MLP with automatic validation set\n",
        "from keras.models import Sequential\n",
        "from keras.optimizers import adam_v2\n",
        "from keras.layers import Dense,Conv2D, BatchNormalization,MaxPooling2D, ZeroPadding2D, GlobalAveragePooling2D, Flatten\n",
        "import numpy as np\n",
        "import pandas as pd\n",
        "# fix random seed for reproducibility\n",
        "seed = 7\n",
        "\n",
        "np.random.seed(seed)\n"
      ],
      "execution_count": 1,
      "outputs": []
    },
    {
      "cell_type": "code",
      "metadata": {
        "id": "UgXjnvwW0rma"
      },
      "source": [
        "from keras.wrappers.scikit_learn import KerasClassifier\n",
        "from keras.utils import np_utils\n",
        "from sklearn.model_selection import cross_val_score\n",
        "from sklearn.model_selection import KFold\n",
        "from sklearn.preprocessing import LabelEncoder\n",
        "from sklearn.pipeline import Pipeline"
      ],
      "execution_count": 2,
      "outputs": []
    },
    {
      "cell_type": "code",
      "metadata": {
        "id": "roCcVx412LGr"
      },
      "source": [
        "path='https://raw.githubusercontent.com/rohailkhan/data/main/iris.csv'\n",
        "iris=pd.read_csv(path)"
      ],
      "execution_count": 5,
      "outputs": []
    },
    {
      "cell_type": "code",
      "metadata": {
        "colab": {
          "base_uri": "https://localhost:8080/",
          "height": 203
        },
        "id": "1AAIRN4S2Scz",
        "outputId": "c8d28552-ba48-44b8-da9e-636d439f7771"
      },
      "source": [
        "iris.head()"
      ],
      "execution_count": 4,
      "outputs": [
        {
          "output_type": "execute_result",
          "data": {
            "text/html": [
              "<div>\n",
              "<style scoped>\n",
              "    .dataframe tbody tr th:only-of-type {\n",
              "        vertical-align: middle;\n",
              "    }\n",
              "\n",
              "    .dataframe tbody tr th {\n",
              "        vertical-align: top;\n",
              "    }\n",
              "\n",
              "    .dataframe thead th {\n",
              "        text-align: right;\n",
              "    }\n",
              "</style>\n",
              "<table border=\"1\" class=\"dataframe\">\n",
              "  <thead>\n",
              "    <tr style=\"text-align: right;\">\n",
              "      <th></th>\n",
              "      <th>5.1</th>\n",
              "      <th>3.5</th>\n",
              "      <th>1.4</th>\n",
              "      <th>0.2</th>\n",
              "      <th>Iris-setosa</th>\n",
              "    </tr>\n",
              "  </thead>\n",
              "  <tbody>\n",
              "    <tr>\n",
              "      <th>0</th>\n",
              "      <td>4.9</td>\n",
              "      <td>3.0</td>\n",
              "      <td>1.4</td>\n",
              "      <td>0.2</td>\n",
              "      <td>Iris-setosa</td>\n",
              "    </tr>\n",
              "    <tr>\n",
              "      <th>1</th>\n",
              "      <td>4.7</td>\n",
              "      <td>3.2</td>\n",
              "      <td>1.3</td>\n",
              "      <td>0.2</td>\n",
              "      <td>Iris-setosa</td>\n",
              "    </tr>\n",
              "    <tr>\n",
              "      <th>2</th>\n",
              "      <td>4.6</td>\n",
              "      <td>3.1</td>\n",
              "      <td>1.5</td>\n",
              "      <td>0.2</td>\n",
              "      <td>Iris-setosa</td>\n",
              "    </tr>\n",
              "    <tr>\n",
              "      <th>3</th>\n",
              "      <td>5.0</td>\n",
              "      <td>3.6</td>\n",
              "      <td>1.4</td>\n",
              "      <td>0.2</td>\n",
              "      <td>Iris-setosa</td>\n",
              "    </tr>\n",
              "    <tr>\n",
              "      <th>4</th>\n",
              "      <td>5.4</td>\n",
              "      <td>3.9</td>\n",
              "      <td>1.7</td>\n",
              "      <td>0.4</td>\n",
              "      <td>Iris-setosa</td>\n",
              "    </tr>\n",
              "  </tbody>\n",
              "</table>\n",
              "</div>"
            ],
            "text/plain": [
              "   5.1  3.5  1.4  0.2  Iris-setosa\n",
              "0  4.9  3.0  1.4  0.2  Iris-setosa\n",
              "1  4.7  3.2  1.3  0.2  Iris-setosa\n",
              "2  4.6  3.1  1.5  0.2  Iris-setosa\n",
              "3  5.0  3.6  1.4  0.2  Iris-setosa\n",
              "4  5.4  3.9  1.7  0.4  Iris-setosa"
            ]
          },
          "metadata": {},
          "execution_count": 4
        }
      ]
    },
    {
      "cell_type": "code",
      "metadata": {
        "colab": {
          "base_uri": "https://localhost:8080/",
          "height": 203
        },
        "id": "nbWgPPaI2fVZ",
        "outputId": "4ddae002-fb30-48d8-db06-3e091bd2e5c2"
      },
      "source": [
        "iris=pd.read_csv(path,header=None)\n",
        "iris.head()"
      ],
      "execution_count": 6,
      "outputs": [
        {
          "output_type": "execute_result",
          "data": {
            "text/html": [
              "<div>\n",
              "<style scoped>\n",
              "    .dataframe tbody tr th:only-of-type {\n",
              "        vertical-align: middle;\n",
              "    }\n",
              "\n",
              "    .dataframe tbody tr th {\n",
              "        vertical-align: top;\n",
              "    }\n",
              "\n",
              "    .dataframe thead th {\n",
              "        text-align: right;\n",
              "    }\n",
              "</style>\n",
              "<table border=\"1\" class=\"dataframe\">\n",
              "  <thead>\n",
              "    <tr style=\"text-align: right;\">\n",
              "      <th></th>\n",
              "      <th>0</th>\n",
              "      <th>1</th>\n",
              "      <th>2</th>\n",
              "      <th>3</th>\n",
              "      <th>4</th>\n",
              "    </tr>\n",
              "  </thead>\n",
              "  <tbody>\n",
              "    <tr>\n",
              "      <th>0</th>\n",
              "      <td>5.1</td>\n",
              "      <td>3.5</td>\n",
              "      <td>1.4</td>\n",
              "      <td>0.2</td>\n",
              "      <td>Iris-setosa</td>\n",
              "    </tr>\n",
              "    <tr>\n",
              "      <th>1</th>\n",
              "      <td>4.9</td>\n",
              "      <td>3.0</td>\n",
              "      <td>1.4</td>\n",
              "      <td>0.2</td>\n",
              "      <td>Iris-setosa</td>\n",
              "    </tr>\n",
              "    <tr>\n",
              "      <th>2</th>\n",
              "      <td>4.7</td>\n",
              "      <td>3.2</td>\n",
              "      <td>1.3</td>\n",
              "      <td>0.2</td>\n",
              "      <td>Iris-setosa</td>\n",
              "    </tr>\n",
              "    <tr>\n",
              "      <th>3</th>\n",
              "      <td>4.6</td>\n",
              "      <td>3.1</td>\n",
              "      <td>1.5</td>\n",
              "      <td>0.2</td>\n",
              "      <td>Iris-setosa</td>\n",
              "    </tr>\n",
              "    <tr>\n",
              "      <th>4</th>\n",
              "      <td>5.0</td>\n",
              "      <td>3.6</td>\n",
              "      <td>1.4</td>\n",
              "      <td>0.2</td>\n",
              "      <td>Iris-setosa</td>\n",
              "    </tr>\n",
              "  </tbody>\n",
              "</table>\n",
              "</div>"
            ],
            "text/plain": [
              "     0    1    2    3            4\n",
              "0  5.1  3.5  1.4  0.2  Iris-setosa\n",
              "1  4.9  3.0  1.4  0.2  Iris-setosa\n",
              "2  4.7  3.2  1.3  0.2  Iris-setosa\n",
              "3  4.6  3.1  1.5  0.2  Iris-setosa\n",
              "4  5.0  3.6  1.4  0.2  Iris-setosa"
            ]
          },
          "metadata": {},
          "execution_count": 6
        }
      ]
    },
    {
      "cell_type": "code",
      "metadata": {
        "colab": {
          "base_uri": "https://localhost:8080/"
        },
        "id": "LOGyr62ewsIL",
        "outputId": "d8bd5ddf-37d9-4f6c-965e-0c897db9fe80"
      },
      "source": [
        "iris.columns"
      ],
      "execution_count": 11,
      "outputs": [
        {
          "output_type": "execute_result",
          "data": {
            "text/plain": [
              "Int64Index([0, 1, 2, 3, 4], dtype='int64')"
            ]
          },
          "metadata": {},
          "execution_count": 11
        }
      ]
    },
    {
      "cell_type": "code",
      "metadata": {
        "colab": {
          "base_uri": "https://localhost:8080/"
        },
        "id": "XmVgI-oC2rXf",
        "outputId": "9fe20266-4cac-4118-a43f-18c65a439393"
      },
      "source": [
        "dataset = iris.values\n",
        "dataset[0:5]"
      ],
      "execution_count": 9,
      "outputs": [
        {
          "output_type": "execute_result",
          "data": {
            "text/plain": [
              "array([[5.1, 3.5, 1.4, 0.2, 'Iris-setosa'],\n",
              "       [4.9, 3.0, 1.4, 0.2, 'Iris-setosa'],\n",
              "       [4.7, 3.2, 1.3, 0.2, 'Iris-setosa'],\n",
              "       [4.6, 3.1, 1.5, 0.2, 'Iris-setosa'],\n",
              "       [5.0, 3.6, 1.4, 0.2, 'Iris-setosa']], dtype=object)"
            ]
          },
          "metadata": {},
          "execution_count": 9
        }
      ]
    },
    {
      "cell_type": "code",
      "metadata": {
        "id": "7Q2fQccK2zvg"
      },
      "source": [
        "X = dataset[:,0:4].astype(float)\n",
        "Y = dataset[:,4] # last column is the labels"
      ],
      "execution_count": 12,
      "outputs": []
    },
    {
      "cell_type": "markdown",
      "metadata": {
        "id": "D32JcUHJw9ZV"
      },
      "source": [
        "## One hot encoding of the target\n",
        "This will be done in 2 steps.\n",
        "1- First the string classes are converted to integers by LabelEncoder\n",
        "\n",
        "2-Then the converted digits are one-hot encoded using keras .to_categorical"
      ]
    },
    {
      "cell_type": "code",
      "metadata": {
        "colab": {
          "base_uri": "https://localhost:8080/"
        },
        "id": "mF9N5qn270bn",
        "outputId": "6264fb1d-b5ba-4414-90fe-485ea3bc95ef"
      },
      "source": [
        ">>> from sklearn import preprocessing\n",
        ">>> le = preprocessing.LabelEncoder()\n",
        ">>> le.fit([1, 2, 2, 6])\n",
        "le.classes_  , le.transform([1, 1, 2, 6])"
      ],
      "execution_count": 21,
      "outputs": [
        {
          "output_type": "execute_result",
          "data": {
            "text/plain": [
              "(array([1, 2, 6]), array([0, 0, 1, 2]))"
            ]
          },
          "metadata": {},
          "execution_count": 21
        }
      ]
    },
    {
      "cell_type": "code",
      "metadata": {
        "id": "A2ROnps094Gt"
      },
      "source": [
        "# encode class values as integers\n",
        "encoder = LabelEncoder()\n",
        "encoder.fit(Y)\n",
        "encoded_Y = encoder.transform(Y)"
      ],
      "execution_count": 25,
      "outputs": []
    },
    {
      "cell_type": "code",
      "metadata": {
        "id": "Rabk6fps7_LP"
      },
      "source": [
        "from keras.utils.np_utils import to_categorical\n",
        "one_hot_y=np_utils.to_categorical(encoded_Y)"
      ],
      "execution_count": 26,
      "outputs": []
    },
    {
      "cell_type": "markdown",
      "metadata": {
        "id": "9JGZ8JxKF44F"
      },
      "source": [
        "# Base line Model"
      ]
    },
    {
      "cell_type": "code",
      "metadata": {
        "id": "Ng8GsrDEGWvE"
      },
      "source": [
        "# define baseline model\n",
        "def baseline_model():\n",
        "    # create model\n",
        "    model = Sequential()\n",
        "    model.add(Dense(4, input_dim=4, kernel_initializer='normal', activation='relu'))\n",
        "    model.add(Dense(3, kernel_initializer='normal', activation='sigmoid'))\n",
        "    # Compile model\n",
        "    model.compile(loss='categorical_crossentropy', optimizer='adam', metrics=['accuracy'])\n",
        "    return model"
      ],
      "execution_count": 41,
      "outputs": []
    },
    {
      "cell_type": "markdown",
      "metadata": {
        "id": "4sNe-wkGGq3y"
      },
      "source": [
        "# Make a wrapper to for Keras Model for use in Scikit-learn"
      ]
    },
    {
      "cell_type": "code",
      "metadata": {
        "id": "3-ANRQWpGxx4"
      },
      "source": [
        "estimator = KerasClassifier(build_fn=baseline_model, nb_epoch=200, batch_size=5, verbose=0)"
      ],
      "execution_count": 42,
      "outputs": []
    },
    {
      "cell_type": "markdown",
      "metadata": {
        "id": "xW1QVTn1G2zd"
      },
      "source": [
        "# Evaluate model using k-fold cross validation"
      ]
    },
    {
      "cell_type": "code",
      "metadata": {
        "id": "Xguk_qDgG6JT"
      },
      "source": [
        "kfold = KFold(n_splits=10, shuffle=True, random_state=seed)"
      ],
      "execution_count": 43,
      "outputs": []
    },
    {
      "cell_type": "markdown",
      "metadata": {
        "id": "sW5qd7lBHDQx"
      },
      "source": [
        "# Results"
      ]
    },
    {
      "cell_type": "code",
      "metadata": {
        "colab": {
          "base_uri": "https://localhost:8080/"
        },
        "id": "ft5rADMGHFeT",
        "outputId": "e0fa3e4d-4a81-4baa-ee27-96ed0d24c0aa"
      },
      "source": [
        "results = cross_val_score(estimator, X, one_hot_y, cv=kfold)\n"
      ],
      "execution_count": 44,
      "outputs": [
        {
          "output_type": "stream",
          "text": [
            "WARNING:tensorflow:5 out of the last 13 calls to <function Model.make_test_function.<locals>.test_function at 0x7f2db22e9710> triggered tf.function retracing. Tracing is expensive and the excessive number of tracings could be due to (1) creating @tf.function repeatedly in a loop, (2) passing tensors with different shapes, (3) passing Python objects instead of tensors. For (1), please define your @tf.function outside of the loop. For (2), @tf.function has experimental_relax_shapes=True option that relaxes argument shapes that can avoid unnecessary retracing. For (3), please refer to https://www.tensorflow.org/guide/function#controlling_retracing and https://www.tensorflow.org/api_docs/python/tf/function for  more details.\n",
            "WARNING:tensorflow:5 out of the last 13 calls to <function Model.make_test_function.<locals>.test_function at 0x7f2daee20d40> triggered tf.function retracing. Tracing is expensive and the excessive number of tracings could be due to (1) creating @tf.function repeatedly in a loop, (2) passing tensors with different shapes, (3) passing Python objects instead of tensors. For (1), please define your @tf.function outside of the loop. For (2), @tf.function has experimental_relax_shapes=True option that relaxes argument shapes that can avoid unnecessary retracing. For (3), please refer to https://www.tensorflow.org/guide/function#controlling_retracing and https://www.tensorflow.org/api_docs/python/tf/function for  more details.\n"
          ],
          "name": "stdout"
        }
      ]
    },
    {
      "cell_type": "code",
      "metadata": {
        "colab": {
          "base_uri": "https://localhost:8080/"
        },
        "id": "tjRpiPONHMXj",
        "outputId": "0fab1858-6e05-45c4-c2e8-fd1ae718a07d"
      },
      "source": [
        "print(\"Accuracy: %.2f%% (%.2f%%)\" % (results.mean()*100, results.std()*100))"
      ],
      "execution_count": 45,
      "outputs": [
        {
          "output_type": "stream",
          "text": [
            "Accuracy: 36.00% (11.62%)\n"
          ],
          "name": "stdout"
        }
      ]
    },
    {
      "cell_type": "markdown",
      "metadata": {
        "id": "7SkzVvDLIw1M"
      },
      "source": [
        "# Without kfold"
      ]
    },
    {
      "cell_type": "code",
      "metadata": {
        "id": "Y3D0VX1aIyhc"
      },
      "source": [
        "    model = Sequential()\n",
        "    model.add(Dense(4, input_dim=4, activation='relu'))\n",
        "    model.add(Dense(64, activation='relu'))\n",
        "    model.add(Flatten())\n",
        "    model.add(Dense(3,  activation='softmax'))\n",
        "    # Compile model\n",
        "    model.compile(loss='categorical_crossentropy', optimizer='adam', metrics=['accuracy'])"
      ],
      "execution_count": 54,
      "outputs": []
    },
    {
      "cell_type": "code",
      "metadata": {
        "id": "riBfWo1UI4HP"
      },
      "source": [
        "results=model.fit(X, one_hot_y,epochs=120,shuffle=True)"
      ],
      "execution_count": null,
      "outputs": []
    },
    {
      "cell_type": "code",
      "metadata": {
        "colab": {
          "base_uri": "https://localhost:8080/"
        },
        "id": "rLpE21lMKVBf",
        "outputId": "9c5918da-3255-4f93-bd1a-f58a14fc5d29"
      },
      "source": [
        "print(\"Accuracy:mean= %.2f%% std=%.2f%%\" % (np.mean(results.history['accuracy'])*100, np.std(results.history['accuracy'])*100))"
      ],
      "execution_count": 68,
      "outputs": [
        {
          "output_type": "stream",
          "text": [
            "Accuracy:mean= 90.78% std=12.68%\n"
          ],
          "name": "stdout"
        }
      ]
    }
  ]
}